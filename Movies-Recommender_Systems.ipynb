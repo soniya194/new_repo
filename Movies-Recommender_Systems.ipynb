{
 "cells": [
  {
   "cell_type": "code",
   "execution_count": 1,
   "id": "9476332e",
   "metadata": {},
   "outputs": [],
   "source": [
    "import pandas as pd\n",
    "import numpy as np\n",
    "from sklearn.metrics.pairwise import cosine_similarity\n",
    "from sklearn.metrics.pairwise import cosine_distances\n",
    "from sklearn.model_selection import train_test_split\n",
    "from sklearn.metrics import mean_absolute_error, r2_score\n"
   ]
  },
  {
   "cell_type": "code",
   "execution_count": 2,
   "id": "f14b28c0",
   "metadata": {},
   "outputs": [],
   "source": [
    "ratings = pd.read_csv(r\"Z:\\WBS_DS_Bootcamp\\project_8\\Data\\ml-latest-small\\ratings.csv\")\n",
    "movies =pd.read_csv(\"Z:\\WBS_DS_Bootcamp\\project_8\\Data\\ml-latest-small\\movies.csv\")\n",
    "tags = pd.read_csv(r\"Z:\\WBS_DS_Bootcamp\\project_8\\Data\\ml-latest-small\\tags.csv\")\n",
    "links =pd.read_csv(\"Z:\\WBS_DS_Bootcamp\\project_8\\Data\\ml-latest-small\\links.csv\")"
   ]
  },
  {
   "cell_type": "code",
   "execution_count": 3,
   "id": "0d128819",
   "metadata": {},
   "outputs": [
    {
     "data": {
      "text/html": [
       "<div>\n",
       "<style scoped>\n",
       "    .dataframe tbody tr th:only-of-type {\n",
       "        vertical-align: middle;\n",
       "    }\n",
       "\n",
       "    .dataframe tbody tr th {\n",
       "        vertical-align: top;\n",
       "    }\n",
       "\n",
       "    .dataframe thead th {\n",
       "        text-align: right;\n",
       "    }\n",
       "</style>\n",
       "<table border=\"1\" class=\"dataframe\">\n",
       "  <thead>\n",
       "    <tr style=\"text-align: right;\">\n",
       "      <th></th>\n",
       "      <th>userId</th>\n",
       "      <th>movieId</th>\n",
       "      <th>rating</th>\n",
       "      <th>timestamp</th>\n",
       "    </tr>\n",
       "  </thead>\n",
       "  <tbody>\n",
       "    <tr>\n",
       "      <th>0</th>\n",
       "      <td>1</td>\n",
       "      <td>1</td>\n",
       "      <td>4.0</td>\n",
       "      <td>964982703</td>\n",
       "    </tr>\n",
       "    <tr>\n",
       "      <th>1</th>\n",
       "      <td>1</td>\n",
       "      <td>3</td>\n",
       "      <td>4.0</td>\n",
       "      <td>964981247</td>\n",
       "    </tr>\n",
       "    <tr>\n",
       "      <th>2</th>\n",
       "      <td>1</td>\n",
       "      <td>6</td>\n",
       "      <td>4.0</td>\n",
       "      <td>964982224</td>\n",
       "    </tr>\n",
       "    <tr>\n",
       "      <th>3</th>\n",
       "      <td>1</td>\n",
       "      <td>47</td>\n",
       "      <td>5.0</td>\n",
       "      <td>964983815</td>\n",
       "    </tr>\n",
       "    <tr>\n",
       "      <th>4</th>\n",
       "      <td>1</td>\n",
       "      <td>50</td>\n",
       "      <td>5.0</td>\n",
       "      <td>964982931</td>\n",
       "    </tr>\n",
       "  </tbody>\n",
       "</table>\n",
       "</div>"
      ],
      "text/plain": [
       "   userId  movieId  rating  timestamp\n",
       "0       1        1     4.0  964982703\n",
       "1       1        3     4.0  964981247\n",
       "2       1        6     4.0  964982224\n",
       "3       1       47     5.0  964983815\n",
       "4       1       50     5.0  964982931"
      ]
     },
     "execution_count": 3,
     "metadata": {},
     "output_type": "execute_result"
    }
   ],
   "source": [
    "ratings.head()"
   ]
  },
  {
   "cell_type": "code",
   "execution_count": 4,
   "id": "cec3c803",
   "metadata": {},
   "outputs": [
    {
     "data": {
      "text/html": [
       "<div>\n",
       "<style scoped>\n",
       "    .dataframe tbody tr th:only-of-type {\n",
       "        vertical-align: middle;\n",
       "    }\n",
       "\n",
       "    .dataframe tbody tr th {\n",
       "        vertical-align: top;\n",
       "    }\n",
       "\n",
       "    .dataframe thead th {\n",
       "        text-align: right;\n",
       "    }\n",
       "</style>\n",
       "<table border=\"1\" class=\"dataframe\">\n",
       "  <thead>\n",
       "    <tr style=\"text-align: right;\">\n",
       "      <th></th>\n",
       "      <th>movieId</th>\n",
       "      <th>title</th>\n",
       "      <th>genres</th>\n",
       "    </tr>\n",
       "  </thead>\n",
       "  <tbody>\n",
       "    <tr>\n",
       "      <th>0</th>\n",
       "      <td>1</td>\n",
       "      <td>Toy Story (1995)</td>\n",
       "      <td>Adventure|Animation|Children|Comedy|Fantasy</td>\n",
       "    </tr>\n",
       "    <tr>\n",
       "      <th>1</th>\n",
       "      <td>2</td>\n",
       "      <td>Jumanji (1995)</td>\n",
       "      <td>Adventure|Children|Fantasy</td>\n",
       "    </tr>\n",
       "    <tr>\n",
       "      <th>2</th>\n",
       "      <td>3</td>\n",
       "      <td>Grumpier Old Men (1995)</td>\n",
       "      <td>Comedy|Romance</td>\n",
       "    </tr>\n",
       "    <tr>\n",
       "      <th>3</th>\n",
       "      <td>4</td>\n",
       "      <td>Waiting to Exhale (1995)</td>\n",
       "      <td>Comedy|Drama|Romance</td>\n",
       "    </tr>\n",
       "    <tr>\n",
       "      <th>4</th>\n",
       "      <td>5</td>\n",
       "      <td>Father of the Bride Part II (1995)</td>\n",
       "      <td>Comedy</td>\n",
       "    </tr>\n",
       "  </tbody>\n",
       "</table>\n",
       "</div>"
      ],
      "text/plain": [
       "   movieId                               title  \\\n",
       "0        1                    Toy Story (1995)   \n",
       "1        2                      Jumanji (1995)   \n",
       "2        3             Grumpier Old Men (1995)   \n",
       "3        4            Waiting to Exhale (1995)   \n",
       "4        5  Father of the Bride Part II (1995)   \n",
       "\n",
       "                                        genres  \n",
       "0  Adventure|Animation|Children|Comedy|Fantasy  \n",
       "1                   Adventure|Children|Fantasy  \n",
       "2                               Comedy|Romance  \n",
       "3                         Comedy|Drama|Romance  \n",
       "4                                       Comedy  "
      ]
     },
     "execution_count": 4,
     "metadata": {},
     "output_type": "execute_result"
    }
   ],
   "source": [
    "movies.head()"
   ]
  },
  {
   "cell_type": "markdown",
   "id": "4d14763a",
   "metadata": {},
   "source": [
    "##  1.Popularity based recommender system"
   ]
  },
  {
   "cell_type": "code",
   "execution_count": 5,
   "id": "5a1b4f77",
   "metadata": {},
   "outputs": [],
   "source": [
    "def popular_movies(ratings,movies):\n",
    "    # group movies by rating (explicit rating)\n",
    "    rating_mean = pd.DataFrame(ratings.groupby('movieId')['rating'].mean().sort_values(ascending=False))\n",
    "\n",
    "    # group movies by rating_count (implicit rating )\n",
    "    rating_count= pd.DataFrame(ratings.groupby('movieId')['userId'].count().sort_values(ascending=False))\n",
    "    rating_count.rename(columns={'userId': 'rating_counts'}, inplace=True)\n",
    "\n",
    "    # merge both the dataframes rating_mean and rating_count\n",
    "    ratings_data = rating_mean.merge(rating_count, left_on= 'movieId', right_on = 'movieId')\n",
    "\n",
    "    # create a Dataframe with movies and ratings_data\n",
    "    Top5_movies= movies.merge(ratings_data, left_on= 'movieId', right_on = 'movieId').sort_values('rating_counts', ascending=False)\n",
    "    return Top5_movies.head()"
   ]
  },
  {
   "cell_type": "code",
   "execution_count": 6,
   "id": "97045b30",
   "metadata": {},
   "outputs": [
    {
     "data": {
      "text/html": [
       "<div>\n",
       "<style scoped>\n",
       "    .dataframe tbody tr th:only-of-type {\n",
       "        vertical-align: middle;\n",
       "    }\n",
       "\n",
       "    .dataframe tbody tr th {\n",
       "        vertical-align: top;\n",
       "    }\n",
       "\n",
       "    .dataframe thead th {\n",
       "        text-align: right;\n",
       "    }\n",
       "</style>\n",
       "<table border=\"1\" class=\"dataframe\">\n",
       "  <thead>\n",
       "    <tr style=\"text-align: right;\">\n",
       "      <th></th>\n",
       "      <th>movieId</th>\n",
       "      <th>title</th>\n",
       "      <th>genres</th>\n",
       "      <th>rating</th>\n",
       "      <th>rating_counts</th>\n",
       "    </tr>\n",
       "  </thead>\n",
       "  <tbody>\n",
       "    <tr>\n",
       "      <th>314</th>\n",
       "      <td>356</td>\n",
       "      <td>Forrest Gump (1994)</td>\n",
       "      <td>Comedy|Drama|Romance|War</td>\n",
       "      <td>4.164134</td>\n",
       "      <td>329</td>\n",
       "    </tr>\n",
       "    <tr>\n",
       "      <th>277</th>\n",
       "      <td>318</td>\n",
       "      <td>Shawshank Redemption, The (1994)</td>\n",
       "      <td>Crime|Drama</td>\n",
       "      <td>4.429022</td>\n",
       "      <td>317</td>\n",
       "    </tr>\n",
       "    <tr>\n",
       "      <th>257</th>\n",
       "      <td>296</td>\n",
       "      <td>Pulp Fiction (1994)</td>\n",
       "      <td>Comedy|Crime|Drama|Thriller</td>\n",
       "      <td>4.197068</td>\n",
       "      <td>307</td>\n",
       "    </tr>\n",
       "    <tr>\n",
       "      <th>510</th>\n",
       "      <td>593</td>\n",
       "      <td>Silence of the Lambs, The (1991)</td>\n",
       "      <td>Crime|Horror|Thriller</td>\n",
       "      <td>4.161290</td>\n",
       "      <td>279</td>\n",
       "    </tr>\n",
       "    <tr>\n",
       "      <th>1938</th>\n",
       "      <td>2571</td>\n",
       "      <td>Matrix, The (1999)</td>\n",
       "      <td>Action|Sci-Fi|Thriller</td>\n",
       "      <td>4.192446</td>\n",
       "      <td>278</td>\n",
       "    </tr>\n",
       "  </tbody>\n",
       "</table>\n",
       "</div>"
      ],
      "text/plain": [
       "      movieId                             title                       genres  \\\n",
       "314       356               Forrest Gump (1994)     Comedy|Drama|Romance|War   \n",
       "277       318  Shawshank Redemption, The (1994)                  Crime|Drama   \n",
       "257       296               Pulp Fiction (1994)  Comedy|Crime|Drama|Thriller   \n",
       "510       593  Silence of the Lambs, The (1991)        Crime|Horror|Thriller   \n",
       "1938     2571                Matrix, The (1999)       Action|Sci-Fi|Thriller   \n",
       "\n",
       "        rating  rating_counts  \n",
       "314   4.164134            329  \n",
       "277   4.429022            317  \n",
       "257   4.197068            307  \n",
       "510   4.161290            279  \n",
       "1938  4.192446            278  "
      ]
     },
     "execution_count": 6,
     "metadata": {},
     "output_type": "execute_result"
    }
   ],
   "source": [
    "popular_movies(ratings,movies)"
   ]
  },
  {
   "cell_type": "markdown",
   "id": "1f72b4e2",
   "metadata": {},
   "source": [
    "## 2. Similarity based recommender system"
   ]
  },
  {
   "cell_type": "code",
   "execution_count": 7,
   "id": "146bb783",
   "metadata": {},
   "outputs": [],
   "source": [
    "def similar_movies(movie_name,number_of_movies):\n",
    "    # merge movies and ratings and create a similarity_matrix\n",
    "    movies_ratings = movies.merge(ratings, left_on = 'movieId', right_on = 'movieId')\n",
    "    similarity_matrix =pd.DataFrame(pd.pivot_table(data= movies_ratings, values='rating', index='userId', columns='movieId'))\n",
    "    # take movie_name as input and find the movie_id\n",
    "    movie_id = movies[movies['title'].str.contains(movie_name)].reset_index().head(1)\n",
    "    movie_id= movie_id.movieId[0]\n",
    "    movie_ratings = similarity_matrix[movie_id]\n",
    "    movie_ratings[movie_ratings>=0]\n",
    "    similar_to_movie = similarity_matrix.corrwith(movie_ratings)\n",
    "    corr_movie_id = pd.DataFrame(similar_to_movie, columns=['PearsonR'])\n",
    "    corr_movie_id .dropna(inplace=True)\n",
    "    ratings['rating_count']= pd.DataFrame(ratings.groupby('movieId')['userId'].count().sort_values(ascending=False))\n",
    "    movies_corr_summary = corr_movie_id.join(ratings['rating_count'])\n",
    "    movies_corr_summary.drop(movie_id,inplace=True)\n",
    "    top_movies = movies_corr_summary[movies_corr_summary['rating_count']>=100].sort_values('PearsonR', ascending=False)\n",
    "    top_movies = top_movies.merge(movies, left_on='movieId', right_on ='movieId').head(number_of_movies)\n",
    "    top = top_movies.reindex(columns=['movieId','title','genres','PearsonR','rating_count'])\n",
    "    return top"
   ]
  },
  {
   "cell_type": "code",
   "execution_count": 8,
   "id": "d4611820",
   "metadata": {},
   "outputs": [
    {
     "name": "stderr",
     "output_type": "stream",
     "text": [
      "C:\\Users\\ranji\\anaconda3\\lib\\site-packages\\numpy\\lib\\function_base.py:2634: RuntimeWarning: Degrees of freedom <= 0 for slice\n",
      "  c = cov(x, y, rowvar, dtype=dtype)\n",
      "C:\\Users\\ranji\\anaconda3\\lib\\site-packages\\numpy\\lib\\function_base.py:2493: RuntimeWarning: divide by zero encountered in true_divide\n",
      "  c *= np.true_divide(1, fact)\n"
     ]
    },
    {
     "data": {
      "text/html": [
       "<div>\n",
       "<style scoped>\n",
       "    .dataframe tbody tr th:only-of-type {\n",
       "        vertical-align: middle;\n",
       "    }\n",
       "\n",
       "    .dataframe tbody tr th {\n",
       "        vertical-align: top;\n",
       "    }\n",
       "\n",
       "    .dataframe thead th {\n",
       "        text-align: right;\n",
       "    }\n",
       "</style>\n",
       "<table border=\"1\" class=\"dataframe\">\n",
       "  <thead>\n",
       "    <tr style=\"text-align: right;\">\n",
       "      <th></th>\n",
       "      <th>movieId</th>\n",
       "      <th>title</th>\n",
       "      <th>genres</th>\n",
       "      <th>PearsonR</th>\n",
       "      <th>rating_count</th>\n",
       "    </tr>\n",
       "  </thead>\n",
       "  <tbody>\n",
       "    <tr>\n",
       "      <th>0</th>\n",
       "      <td>587</td>\n",
       "      <td>Ghost (1990)</td>\n",
       "      <td>Comedy|Drama|Fantasy|Romance|Thriller</td>\n",
       "      <td>0.599045</td>\n",
       "      <td>115.0</td>\n",
       "    </tr>\n",
       "    <tr>\n",
       "      <th>1</th>\n",
       "      <td>5816</td>\n",
       "      <td>Harry Potter and the Chamber of Secrets (2002)</td>\n",
       "      <td>Adventure|Fantasy</td>\n",
       "      <td>0.582899</td>\n",
       "      <td>102.0</td>\n",
       "    </tr>\n",
       "    <tr>\n",
       "      <th>2</th>\n",
       "      <td>329</td>\n",
       "      <td>Star Trek: Generations (1994)</td>\n",
       "      <td>Adventure|Drama|Sci-Fi</td>\n",
       "      <td>0.580232</td>\n",
       "      <td>108.0</td>\n",
       "    </tr>\n",
       "    <tr>\n",
       "      <th>3</th>\n",
       "      <td>6377</td>\n",
       "      <td>Finding Nemo (2003)</td>\n",
       "      <td>Adventure|Animation|Children|Comedy</td>\n",
       "      <td>0.558097</td>\n",
       "      <td>141.0</td>\n",
       "    </tr>\n",
       "    <tr>\n",
       "      <th>4</th>\n",
       "      <td>500</td>\n",
       "      <td>Mrs. Doubtfire (1993)</td>\n",
       "      <td>Comedy|Drama</td>\n",
       "      <td>0.556479</td>\n",
       "      <td>144.0</td>\n",
       "    </tr>\n",
       "  </tbody>\n",
       "</table>\n",
       "</div>"
      ],
      "text/plain": [
       "   movieId                                           title  \\\n",
       "0      587                                    Ghost (1990)   \n",
       "1     5816  Harry Potter and the Chamber of Secrets (2002)   \n",
       "2      329                   Star Trek: Generations (1994)   \n",
       "3     6377                             Finding Nemo (2003)   \n",
       "4      500                           Mrs. Doubtfire (1993)   \n",
       "\n",
       "                                  genres  PearsonR  rating_count  \n",
       "0  Comedy|Drama|Fantasy|Romance|Thriller  0.599045         115.0  \n",
       "1                      Adventure|Fantasy  0.582899         102.0  \n",
       "2                 Adventure|Drama|Sci-Fi  0.580232         108.0  \n",
       "3    Adventure|Animation|Children|Comedy  0.558097         141.0  \n",
       "4                           Comedy|Drama  0.556479         144.0  "
      ]
     },
     "execution_count": 8,
     "metadata": {},
     "output_type": "execute_result"
    }
   ],
   "source": [
    "similar_movies('Pocahontas',5)"
   ]
  },
  {
   "cell_type": "markdown",
   "id": "5dda52ad",
   "metadata": {},
   "source": [
    "## 3. Fully Personalised recommender system"
   ]
  },
  {
   "cell_type": "code",
   "execution_count": 9,
   "id": "7467ba8c",
   "metadata": {},
   "outputs": [],
   "source": [
    "# merge movies and ratings dataframes\n",
    "data = ratings.merge(movies, on=\"movieId\", how=\"left\")\n",
    "# create similarity matrix\n",
    "movie_user = data.pivot_table(index='userId',columns='title',values='rating')\n",
    "movie_user.fillna(0, inplace=True)"
   ]
  },
  {
   "cell_type": "code",
   "execution_count": 10,
   "id": "4bfd7aa2",
   "metadata": {},
   "outputs": [
    {
     "data": {
      "text/html": [
       "<div>\n",
       "<style scoped>\n",
       "    .dataframe tbody tr th:only-of-type {\n",
       "        vertical-align: middle;\n",
       "    }\n",
       "\n",
       "    .dataframe tbody tr th {\n",
       "        vertical-align: top;\n",
       "    }\n",
       "\n",
       "    .dataframe thead th {\n",
       "        text-align: right;\n",
       "    }\n",
       "</style>\n",
       "<table border=\"1\" class=\"dataframe\">\n",
       "  <thead>\n",
       "    <tr style=\"text-align: right;\">\n",
       "      <th></th>\n",
       "      <th>0</th>\n",
       "      <th>1</th>\n",
       "    </tr>\n",
       "  </thead>\n",
       "  <tbody>\n",
       "    <tr>\n",
       "      <th>0</th>\n",
       "      <td>0</td>\n",
       "      <td>48</td>\n",
       "    </tr>\n",
       "    <tr>\n",
       "      <th>1</th>\n",
       "      <td>0</td>\n",
       "      <td>66</td>\n",
       "    </tr>\n",
       "    <tr>\n",
       "      <th>2</th>\n",
       "      <td>0</td>\n",
       "      <td>202</td>\n",
       "    </tr>\n",
       "    <tr>\n",
       "      <th>3</th>\n",
       "      <td>0</td>\n",
       "      <td>245</td>\n",
       "    </tr>\n",
       "    <tr>\n",
       "      <th>4</th>\n",
       "      <td>0</td>\n",
       "      <td>325</td>\n",
       "    </tr>\n",
       "  </tbody>\n",
       "</table>\n",
       "</div>"
      ],
      "text/plain": [
       "   0    1\n",
       "0  0   48\n",
       "1  0   66\n",
       "2  0  202\n",
       "3  0  245\n",
       "4  0  325"
      ]
     },
     "execution_count": 10,
     "metadata": {},
     "output_type": "execute_result"
    }
   ],
   "source": [
    "# find out all the positions different than 0\n",
    "ratings_pos = pd.DataFrame(np.nonzero(np.array(movie_user))).T\n",
    "ratings_pos.head()"
   ]
  },
  {
   "cell_type": "markdown",
   "id": "7617a70f",
   "metadata": {},
   "source": [
    "### create the train and test dataset"
   ]
  },
  {
   "cell_type": "code",
   "execution_count": 11,
   "id": "3fb9f79d",
   "metadata": {},
   "outputs": [],
   "source": [
    "# split with train and test\n",
    "train_pos, test_pos = train_test_split(ratings_pos, random_state=42, test_size=0.2)"
   ]
  },
  {
   "cell_type": "code",
   "execution_count": 12,
   "id": "9ad8b518",
   "metadata": {},
   "outputs": [],
   "source": [
    "# create an empty dataframe full of 0, with the same shape as the movie_user data\n",
    "train = np.zeros(movie_user.shape)\n",
    "\n",
    "# fill the set with the movie ratings based on the train positions\n",
    "for pos in train_pos.values: \n",
    "    index = pos[0]\n",
    "    col = pos[1]\n",
    "    train[index, col] = movie_user.iloc[index, col]\n",
    "\n",
    "train = pd.DataFrame(train, columns=movie_user.columns, index=movie_user.index)"
   ]
  },
  {
   "cell_type": "code",
   "execution_count": 13,
   "id": "fefe5ff2",
   "metadata": {},
   "outputs": [],
   "source": [
    "# now it is time for the test set. We will follow the same process\n",
    "test = np.zeros(movie_user.shape)\n",
    "\n",
    "for pos in test_pos.values: \n",
    "    index = pos[0]\n",
    "    col = pos[1]\n",
    "    test[index, col] = movie_user.iloc[index, col]\n",
    "    \n",
    "test = pd.DataFrame(test, columns=movie_user.columns, index=movie_user.index)"
   ]
  },
  {
   "cell_type": "code",
   "execution_count": 14,
   "id": "d078318d",
   "metadata": {},
   "outputs": [],
   "source": [
    "true_test_ratings = []\n",
    "\n",
    "for row in test_pos.iterrows():\n",
    "    true_test_ratings.append(movie_user.iloc[int(row[1][0]), int(row[1][1])])\n",
    "\n",
    "test_pos = test_pos.assign(true_rating = true_test_ratings)"
   ]
  },
  {
   "cell_type": "markdown",
   "id": "b21e4f55",
   "metadata": {},
   "source": [
    "### build the similarity matrix for the train test"
   ]
  },
  {
   "cell_type": "code",
   "execution_count": 15,
   "id": "5488d8c4",
   "metadata": {},
   "outputs": [],
   "source": [
    "# train the model\n",
    "train_similarity = pd.DataFrame(cosine_similarity(train), columns=train.index, index=train.index)\n"
   ]
  },
  {
   "cell_type": "code",
   "execution_count": 16,
   "id": "3cad59fe",
   "metadata": {},
   "outputs": [],
   "source": [
    "# test the model\n",
    "test_similarity = pd.DataFrame(cosine_similarity(test), columns=test.index, index=test.index)"
   ]
  },
  {
   "cell_type": "code",
   "execution_count": 17,
   "id": "475d3d36",
   "metadata": {},
   "outputs": [
    {
     "data": {
      "text/plain": [
       "4.0"
      ]
     },
     "execution_count": 17,
     "metadata": {},
     "output_type": "execute_result"
    }
   ],
   "source": [
    "true_rating = movie_user.loc[1, \"Abyss, The (1989)\"]\n",
    "true_rating"
   ]
  },
  {
   "cell_type": "markdown",
   "id": "058039b4",
   "metadata": {},
   "source": [
    "## Computing all recommendations for the train set"
   ]
  },
  {
   "cell_type": "code",
   "execution_count": 18,
   "id": "e3962925",
   "metadata": {},
   "outputs": [],
   "source": [
    "def recommender(index_pos, column_pos, sim_df, data): \n",
    "    # build a df with the ratings for one movie (column_name) and\n",
    "    # the similarities to one user (index_name)\n",
    "    results = (pd.DataFrame({'ratings': data.iloc[:,column_pos], 'similarities' : sim_df.iloc[index_pos,:].tolist()}))\n",
    "    \n",
    "    # compute the weights\n",
    "    results = results.assign(weights = results.similarities / (sum(results.similarities) -1))\n",
    "    \n",
    "    # compute the weighted ratings\n",
    "    results = results.assign(weighted_ratings = results.ratings * results.weights)\n",
    "    \n",
    "    # return rating prediction for one user and one movie\n",
    "    return results.weighted_ratings.sum()"
   ]
  },
  {
   "cell_type": "code",
   "execution_count": 19,
   "id": "d9978911",
   "metadata": {},
   "outputs": [
    {
     "data": {
      "text/plain": [
       "0.608688505307779"
      ]
     },
     "execution_count": 19,
     "metadata": {},
     "output_type": "execute_result"
    }
   ],
   "source": [
    "recommender(0, 202, train_similarity, train)"
   ]
  },
  {
   "cell_type": "code",
   "execution_count": 20,
   "id": "8a0c49d7",
   "metadata": {},
   "outputs": [
    {
     "data": {
      "text/html": [
       "<div>\n",
       "<style scoped>\n",
       "    .dataframe tbody tr th:only-of-type {\n",
       "        vertical-align: middle;\n",
       "    }\n",
       "\n",
       "    .dataframe tbody tr th {\n",
       "        vertical-align: top;\n",
       "    }\n",
       "\n",
       "    .dataframe thead th {\n",
       "        text-align: right;\n",
       "    }\n",
       "</style>\n",
       "<table border=\"1\" class=\"dataframe\">\n",
       "  <thead>\n",
       "    <tr style=\"text-align: right;\">\n",
       "      <th></th>\n",
       "      <th>0</th>\n",
       "      <th>1</th>\n",
       "      <th>true_rating</th>\n",
       "    </tr>\n",
       "  </thead>\n",
       "  <tbody>\n",
       "    <tr>\n",
       "      <th>40035</th>\n",
       "      <td>273</td>\n",
       "      <td>5803</td>\n",
       "      <td>2.5</td>\n",
       "    </tr>\n",
       "    <tr>\n",
       "      <th>64954</th>\n",
       "      <td>413</td>\n",
       "      <td>9582</td>\n",
       "      <td>3.0</td>\n",
       "    </tr>\n",
       "    <tr>\n",
       "      <th>74022</th>\n",
       "      <td>473</td>\n",
       "      <td>4613</td>\n",
       "      <td>2.0</td>\n",
       "    </tr>\n",
       "    <tr>\n",
       "      <th>6187</th>\n",
       "      <td>41</td>\n",
       "      <td>6950</td>\n",
       "      <td>4.0</td>\n",
       "    </tr>\n",
       "    <tr>\n",
       "      <th>34900</th>\n",
       "      <td>232</td>\n",
       "      <td>9120</td>\n",
       "      <td>3.0</td>\n",
       "    </tr>\n",
       "    <tr>\n",
       "      <th>...</th>\n",
       "      <td>...</td>\n",
       "      <td>...</td>\n",
       "      <td>...</td>\n",
       "    </tr>\n",
       "    <tr>\n",
       "      <th>64628</th>\n",
       "      <td>413</td>\n",
       "      <td>8253</td>\n",
       "      <td>4.0</td>\n",
       "    </tr>\n",
       "    <tr>\n",
       "      <th>87784</th>\n",
       "      <td>565</td>\n",
       "      <td>9119</td>\n",
       "      <td>5.0</td>\n",
       "    </tr>\n",
       "    <tr>\n",
       "      <th>87799</th>\n",
       "      <td>566</td>\n",
       "      <td>397</td>\n",
       "      <td>2.0</td>\n",
       "    </tr>\n",
       "    <tr>\n",
       "      <th>29457</th>\n",
       "      <td>201</td>\n",
       "      <td>2139</td>\n",
       "      <td>4.0</td>\n",
       "    </tr>\n",
       "    <tr>\n",
       "      <th>50579</th>\n",
       "      <td>325</td>\n",
       "      <td>6311</td>\n",
       "      <td>4.5</td>\n",
       "    </tr>\n",
       "  </tbody>\n",
       "</table>\n",
       "<p>20167 rows × 3 columns</p>\n",
       "</div>"
      ],
      "text/plain": [
       "         0     1  true_rating\n",
       "40035  273  5803          2.5\n",
       "64954  413  9582          3.0\n",
       "74022  473  4613          2.0\n",
       "6187    41  6950          4.0\n",
       "34900  232  9120          3.0\n",
       "...    ...   ...          ...\n",
       "64628  413  8253          4.0\n",
       "87784  565  9119          5.0\n",
       "87799  566   397          2.0\n",
       "29457  201  2139          4.0\n",
       "50579  325  6311          4.5\n",
       "\n",
       "[20167 rows x 3 columns]"
      ]
     },
     "execution_count": 20,
     "metadata": {},
     "output_type": "execute_result"
    }
   ],
   "source": [
    "test_pos"
   ]
  },
  {
   "cell_type": "code",
   "execution_count": null,
   "id": "75b5976d",
   "metadata": {},
   "outputs": [],
   "source": [
    "# store the recommendations on a list\n",
    "recs_test = []\n",
    "\n",
    "for row in test_pos.iterrows():\n",
    "    recs_test.append(\n",
    "        recommender(\n",
    "            index_pos = int(row[1][0]), \n",
    "            column_pos = int(row[1][1]), \n",
    "            sim_df = test_similarity, \n",
    "            data = test\n",
    "        )\n",
    "    )"
   ]
  },
  {
   "cell_type": "code",
   "execution_count": null,
   "id": "6190154b",
   "metadata": {},
   "outputs": [],
   "source": [
    "test_pos = test_pos.assign(pred_rating = recs_test)\n",
    "test_pos"
   ]
  },
  {
   "cell_type": "markdown",
   "id": "2a981441",
   "metadata": {},
   "source": [
    "### Performance metrices"
   ]
  },
  {
   "cell_type": "code",
   "execution_count": null,
   "id": "901c045d",
   "metadata": {},
   "outputs": [],
   "source": [
    "# calculate the MAE\n",
    "mean_absolute_error(test_pos.true_rating, test_pos.pred_rating)"
   ]
  },
  {
   "cell_type": "code",
   "execution_count": null,
   "id": "b9cf265d",
   "metadata": {},
   "outputs": [],
   "source": [
    "# calculate the r2 score\n",
    "r2_score(test_pos.true_rating, test_pos.pred_rating)"
   ]
  },
  {
   "cell_type": "markdown",
   "id": "635301df",
   "metadata": {},
   "source": [
    "## Final step: DEAL WITH THE ZEROS!\n",
    "\n",
    "And try to improve the performance."
   ]
  },
  {
   "cell_type": "code",
   "execution_count": null,
   "id": "fbe228b1",
   "metadata": {},
   "outputs": [],
   "source": []
  }
 ],
 "metadata": {
  "kernelspec": {
   "display_name": "Python 3",
   "language": "python",
   "name": "python3"
  },
  "language_info": {
   "codemirror_mode": {
    "name": "ipython",
    "version": 3
   },
   "file_extension": ".py",
   "mimetype": "text/x-python",
   "name": "python",
   "nbconvert_exporter": "python",
   "pygments_lexer": "ipython3",
   "version": "3.8.8"
  }
 },
 "nbformat": 4,
 "nbformat_minor": 5
}
